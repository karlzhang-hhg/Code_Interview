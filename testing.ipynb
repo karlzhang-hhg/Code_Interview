{
 "cells": [
  {
   "cell_type": "code",
   "execution_count": 2,
   "metadata": {},
   "outputs": [],
   "source": [
    "def findRotate(arr, num):\n",
    "    l, r = 0, len(arr)-1\n",
    "    res = -1\n",
    "    while l<r:\n",
    "        m = (l+r)//2\n",
    "        if arr[m] < num and arr[m] <= arr[r] and num <= arr[r]:\n",
    "            l = m+1\n",
    "        elif arr[m] > num and arr[l] <= arr[m] and arr[l] <= num:\n",
    "            r = m-1\n",
    "        elif arr[m] < num:\n",
    "            r = m-1\n",
    "        elif arr[m] > num:\n",
    "            l = m+1\n",
    "        else:\n",
    "            res = m\n",
    "            break\n",
    "    res = l if arr[l] == num else -1\n",
    "    return res"
   ]
  },
  {
   "cell_type": "code",
   "execution_count": 3,
   "metadata": {},
   "outputs": [],
   "source": [
    "arr = [4,5,6,7,0,1,2]\n",
    "num = 0"
   ]
  },
  {
   "cell_type": "code",
   "execution_count": 4,
   "metadata": {},
   "outputs": [
    {
     "data": {
      "text/plain": [
       "4"
      ]
     },
     "execution_count": 4,
     "metadata": {},
     "output_type": "execute_result"
    }
   ],
   "source": [
    "findRotate(arr, num)"
   ]
  },
  {
   "cell_type": "code",
   "execution_count": 5,
   "metadata": {},
   "outputs": [],
   "source": [
    "num = 3"
   ]
  },
  {
   "cell_type": "code",
   "execution_count": 6,
   "metadata": {},
   "outputs": [
    {
     "data": {
      "text/plain": [
       "-1"
      ]
     },
     "execution_count": 6,
     "metadata": {},
     "output_type": "execute_result"
    }
   ],
   "source": [
    "findRotate(arr, num)"
   ]
  },
  {
   "cell_type": "code",
   "execution_count": null,
   "metadata": {},
   "outputs": [],
   "source": []
  }
 ],
 "metadata": {
  "kernelspec": {
   "display_name": "Python 3",
   "language": "python",
   "name": "python3"
  },
  "language_info": {
   "codemirror_mode": {
    "name": "ipython",
    "version": 3
   },
   "file_extension": ".py",
   "mimetype": "text/x-python",
   "name": "python",
   "nbconvert_exporter": "python",
   "pygments_lexer": "ipython3",
   "version": "3.7.4"
  }
 },
 "nbformat": 4,
 "nbformat_minor": 2
}
